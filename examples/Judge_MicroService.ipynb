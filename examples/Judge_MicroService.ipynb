{
 "cells": [
  {
   "cell_type": "code",
   "execution_count": 13,
   "id": "a75abe63",
   "metadata": {},
   "outputs": [],
   "source": [
    "import sys, os\n",
    "sys.path.insert(0, os.path.abspath(\"../src\"))\n",
    "from judge_micro.services.efficient import judge_micro\n",
    "import time"
   ]
  },
  {
   "cell_type": "code",
   "execution_count": 14,
   "id": "960068d6",
   "metadata": {},
   "outputs": [],
   "source": [
    "# 準備測試代碼\n",
    "efficient_c_code = '''#include <stdio.h>\n",
    "\n",
    "int solve(int *a, int *b) {\n",
    "    *a = *a * 2;      // 3 * 2 = 6\n",
    "    *b = *b * 2 + 1;  // 4 * 2 + 1 = 9\n",
    "    printf(\"Hello from C user code!\\\\n\");\n",
    "    return 0;\n",
    "}'''\n",
    "\n",
    "efficient_cpp_code = '''#include <iostream>\n",
    "\n",
    "int solve(int &a, int &b) {\n",
    "    a = a * 2;      // 3 * 2 = 6\n",
    "    b = b * 2 + 1;  // 4 * 2 + 1 = 9\n",
    "    std::cout << \"Hello from C++ user code!\" << std::endl;\n",
    "    return 0;\n",
    "}'''\n",
    "\n",
    "solve_params_test = [\n",
    "    {\"name\": \"a\", \"type\": \"int\", \"input_value\": 3},\n",
    "    {\"name\": \"b\", \"type\": \"int\", \"input_value\": 4}\n",
    "]\n",
    "\n",
    "expected_test = {\"a\": 6, \"b\": 9}\n",
    "\n",
    "config = {\n",
    "    \"solve_params\": solve_params_test,\n",
    "    \"expected\": expected_test,\n",
    "    \"function_type\": \"int\"\n",
    "}"
   ]
  },
  {
   "cell_type": "code",
   "execution_count": 15,
   "id": "b7762056",
   "metadata": {},
   "outputs": [
    {
     "name": "stdout",
     "output_type": "stream",
     "text": [
      "🔥 C Micro Service...\n",
      "🏗️ Creating c microservice container...\n",
      "🔨 Compiling code (timeout: 10s)...\n",
      "⚙️ Running test (timeout: 10s)...\n",
      "⚡ Microservice completed (total: 0.797s, compile: 0.643s, test: 0.327s)\n",
      "🗑️ Destroying container...\n",
      "✅ Container destroyed\n",
      "Result: SUCCESS (Cost: 1.933s)\n",
      "Match: True\n"
     ]
    }
   ],
   "source": [
    "print(\"🔥 C Micro Service...\")\n",
    "start_time = time.time()\n",
    "result_c_efficient = judge_micro.run_microservice(\n",
    "    language='c',\n",
    "    user_code=efficient_c_code,\n",
    "    config=config,\n",
    "    show_logs=True,\n",
    "    \n",
    ")\n",
    "elapsed_c = time.time() - start_time\n",
    "\n",
    "print(f\"Result: {result_c_efficient.get('status')} (Cost: {elapsed_c:.3f}s)\")\n",
    "print(f\"Match: {result_c_efficient.get('match')}\")"
   ]
  },
  {
   "cell_type": "code",
   "execution_count": 16,
   "id": "70990a19",
   "metadata": {},
   "outputs": [
    {
     "data": {
      "text/plain": [
       "{'status': 'SUCCESS',\n",
       " 'stdout': 'Hello from C user code!\\n',\n",
       " 'stderr': '',\n",
       " 'time_ms': 3.910888671875,\n",
       " 'cpu_utime': 0,\n",
       " 'cpu_stime': 0.000212,\n",
       " 'maxrss_mb': 1.90234375,\n",
       " 'compile_time_ms': 184.221923828125,\n",
       " 'expected': {'a': 6, 'b': 9},\n",
       " 'actual': {'a': 6, 'b': 9, 'return_value': 0},\n",
       " 'match': True,\n",
       " 'total_execution_time': 0.7973511219024658,\n",
       " 'test_execution_time': 0.326627254486084,\n",
       " 'compile_execution_time': 0.6433224678039551}"
      ]
     },
     "execution_count": 16,
     "metadata": {},
     "output_type": "execute_result"
    }
   ],
   "source": [
    "result_c_efficient"
   ]
  },
  {
   "cell_type": "code",
   "execution_count": 19,
   "id": "b5e120d6",
   "metadata": {},
   "outputs": [
    {
     "name": "stdout",
     "output_type": "stream",
     "text": [
      "🔥 C++ Micro Service...\n",
      "🏗️ Creating cpp microservice container...\n",
      "🔨 Compiling code (timeout: 10s)...\n",
      "⚙️ Running test (timeout: 1s)...\n",
      "⚡ Microservice completed (total: 4.599s, compile: 4.486s, test: 0.781s)\n",
      "🗑️ Destroying container...\n",
      "✅ Container destroyed\n",
      "Result: SUCCESS (Cost: 5.740s)\n",
      "Match: True\n"
     ]
    }
   ],
   "source": [
    "print(\"🔥 C++ Micro Service...\")\n",
    "start_time = time.time()\n",
    "result_cpp_efficient = judge_micro.run_microservice(\n",
    "    language='cpp',\n",
    "    user_code=efficient_cpp_code,\n",
    "    config=config,\n",
    "    show_logs=True,\n",
    "    compile_timeout=10,\n",
    "    execution_timeout=1,\n",
    "    \n",
    ")\n",
    "elapsed_cpp = time.time() - start_time\n",
    "\n",
    "print(f\"Result: {result_cpp_efficient.get('status')} (Cost: {elapsed_cpp:.3f}s)\")\n",
    "print(f\"Match: {result_cpp_efficient.get('match')}\")"
   ]
  },
  {
   "cell_type": "code",
   "execution_count": 20,
   "id": "13b26594",
   "metadata": {},
   "outputs": [
    {
     "data": {
      "text/plain": [
       "{'status': 'SUCCESS',\n",
       " 'stdout': 'Hello from C++ user code!\\n',\n",
       " 'stderr': '',\n",
       " 'time_ms': 5.782,\n",
       " 'cpu_utime': 0.000284,\n",
       " 'cpu_stime': 0.000284,\n",
       " 'maxrss_mb': 3.4375,\n",
       " 'compile_time_ms': 676.489,\n",
       " 'expected': {'a': 6, 'b': 9},\n",
       " 'actual': {'a': 6, 'b': 9, 'return_value': 0},\n",
       " 'match': True,\n",
       " 'total_execution_time': 4.598747491836548,\n",
       " 'test_execution_time': 0.7812368869781494,\n",
       " 'compile_execution_time': 4.486332178115845}"
      ]
     },
     "execution_count": 20,
     "metadata": {},
     "output_type": "execute_result"
    }
   ],
   "source": [
    "result_cpp_efficient"
   ]
  }
 ],
 "metadata": {
  "kernelspec": {
   "display_name": "judge_micro",
   "language": "python",
   "name": "python3"
  },
  "language_info": {
   "codemirror_mode": {
    "name": "ipython",
    "version": 3
   },
   "file_extension": ".py",
   "mimetype": "text/x-python",
   "name": "python",
   "nbconvert_exporter": "python",
   "pygments_lexer": "ipython3",
   "version": "3.12.10"
  }
 },
 "nbformat": 4,
 "nbformat_minor": 5
}
