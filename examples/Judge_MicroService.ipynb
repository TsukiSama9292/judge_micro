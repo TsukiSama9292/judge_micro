{
 "cells": [
  {
   "cell_type": "code",
   "execution_count": null,
   "id": "a75abe63",
   "metadata": {},
   "outputs": [
    {
     "name": "stdout",
     "output_type": "stream",
     "text": [
      "🚀 創建高效率微服務實例...\n",
      "🚀 高效率微服務已就緒\n"
     ]
    }
   ],
   "source": [
    "from judge_micro.services.efficient import judge_micro\n",
    "import time"
   ]
  },
  {
   "cell_type": "code",
   "execution_count": null,
   "id": "960068d6",
   "metadata": {},
   "outputs": [],
   "source": [
    "efficient_c_code = '''#include <stdio.h>\n",
    "\n",
    "int solve(int *a, int *b) {\n",
    "    *a = *a * 2;      // 3 * 2 = 6\n",
    "    *b = *b * 2 + 1;  // 4 * 2 + 1 = 9\n",
    "    printf(\"Hello from C user code!\\\\n\");\n",
    "    return 0;\n",
    "}'''\n",
    "\n",
    "efficient_cpp_code = '''#include <iostream>\n",
    "\n",
    "int solve(int &a, int &b) {\n",
    "    a = a * 2;      // 3 * 2 = 6\n",
    "    b = b * 2 + 1;  // 4 * 2 + 1 = 9\n",
    "    std::cout << \"Hello from C++ user code!\" << std::endl;\n",
    "    return 0;\n",
    "}'''\n",
    "\n",
    "solve_params_test = [\n",
    "    {\"name\": \"a\", \"type\": \"int\", \"input_value\": 3},\n",
    "    {\"name\": \"b\", \"type\": \"int\", \"input_value\": 4}\n",
    "]\n",
    "\n",
    "expected_test = {\"a\": 6, \"b\": 9}\n",
    "\n",
    "config = {\n",
    "    \"solve_params\": solve_params_test,\n",
    "    \"expected\": expected_test,\n",
    "    \"function_type\": \"int\"\n",
    "}"
   ]
  },
  {
   "cell_type": "code",
   "execution_count": null,
   "id": "b7762056",
   "metadata": {},
   "outputs": [
    {
     "name": "stdout",
     "output_type": "stream",
     "text": [
      "🔥 C 語言微服務測試...\n",
      "🏗️ 創建 c 微服務容器...\n",
      "⚙️ 執行測試...\n",
      "⚡ 微服務完成 (0.653s)\n",
      "🗑️ 銷毀容器...\n",
      "✅ 容器已銷毀\n",
      "C 測試結果: SUCCESS (用時: 1.883s)\n",
      "匹配結果: True\n"
     ]
    }
   ],
   "source": [
    "print(\"🔥 C 語言微服務測試...\")\n",
    "start_time = time.time()\n",
    "result_c_efficient = judge_micro.run_microservice(\n",
    "    language='c',\n",
    "    user_code=efficient_c_code,\n",
    "    config=config,\n",
    "    show_logs=True,\n",
    ")\n",
    "elapsed_c = time.time() - start_time\n",
    "\n",
    "print(f\"C 測試結果: {result_c_efficient.get('status')} (用時: {elapsed_c:.3f}s)\")\n",
    "print(f\"匹配結果: {result_c_efficient.get('match')}\")"
   ]
  },
  {
   "cell_type": "code",
   "execution_count": 4,
   "id": "70990a19",
   "metadata": {},
   "outputs": [
    {
     "data": {
      "text/plain": [
       "{'status': 'SUCCESS',\n",
       " 'stdout': 'Hello from C user code!\\n',\n",
       " 'stderr': '',\n",
       " 'time_ms': 3.501220703125,\n",
       " 'cpu_utime': 0,\n",
       " 'cpu_stime': 0.00027,\n",
       " 'maxrss_mb': 2.00390625,\n",
       " 'compile_time_ms': 172.419189453125,\n",
       " 'expected': {'a': 6, 'b': 9},\n",
       " 'actual': {'a': 6, 'b': 9, 'return_value': 0},\n",
       " 'match': True}"
      ]
     },
     "execution_count": 4,
     "metadata": {},
     "output_type": "execute_result"
    }
   ],
   "source": [
    "result_c_efficient"
   ]
  },
  {
   "cell_type": "code",
   "execution_count": null,
   "id": "b5e120d6",
   "metadata": {},
   "outputs": [
    {
     "name": "stdout",
     "output_type": "stream",
     "text": [
      "\n",
      "🔥 C++ 語言微服務測試...\n",
      "🏗️ 創建 cpp 微服務容器...\n",
      "⚙️ 執行測試...\n",
      "⚡ 微服務完成 (4.634s)\n",
      "🗑️ 銷毀容器...\n",
      "✅ 容器已銷毀\n",
      "C++ 測試結果: SUCCESS (用時: 5.852s)\n",
      "匹配結果: True\n"
     ]
    }
   ],
   "source": [
    "print(\"\\n🔥 C++ 語言微服務測試...\")\n",
    "start_time = time.time()\n",
    "result_cpp_efficient = judge_micro.run_microservice(\n",
    "    language='cpp',\n",
    "    user_code=efficient_cpp_code,\n",
    "    config=config,\n",
    "    show_logs=True,\n",
    ")\n",
    "elapsed_cpp = time.time() - start_time\n",
    "\n",
    "print(f\"C++ 測試結果: {result_cpp_efficient.get('status')} (用時: {elapsed_cpp:.3f}s)\")\n",
    "print(f\"匹配結果: {result_cpp_efficient.get('match')}\")"
   ]
  },
  {
   "cell_type": "code",
   "execution_count": 6,
   "id": "13b26594",
   "metadata": {},
   "outputs": [
    {
     "data": {
      "text/plain": [
       "{'status': 'SUCCESS',\n",
       " 'stdout': 'Hello from C++ user code!\\n',\n",
       " 'stderr': '',\n",
       " 'time_ms': 7.279,\n",
       " 'cpu_utime': 0,\n",
       " 'cpu_stime': 0.00057,\n",
       " 'maxrss_mb': 3.37109,\n",
       " 'compile_time_ms': 668.729,\n",
       " 'expected': {'a': 6, 'b': 9},\n",
       " 'actual': {'a': 6, 'b': 9, 'return_value': 0},\n",
       " 'match': True}"
      ]
     },
     "execution_count": 6,
     "metadata": {},
     "output_type": "execute_result"
    }
   ],
   "source": [
    "result_cpp_efficient"
   ]
  }
 ],
 "metadata": {
  "kernelspec": {
   "display_name": "judge_micro",
   "language": "python",
   "name": "python3"
  },
  "language_info": {
   "codemirror_mode": {
    "name": "ipython",
    "version": 3
   },
   "file_extension": ".py",
   "mimetype": "text/x-python",
   "name": "python",
   "nbconvert_exporter": "python",
   "pygments_lexer": "ipython3",
   "version": "3.12.10"
  }
 },
 "nbformat": 4,
 "nbformat_minor": 5
}
